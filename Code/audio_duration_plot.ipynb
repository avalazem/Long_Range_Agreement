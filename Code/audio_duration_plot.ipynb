{
 "cells": [
  {
   "cell_type": "code",
   "execution_count": 2,
   "id": "aeae0a40",
   "metadata": {},
   "outputs": [
    {
     "data": {
      "image/png": "[encoded data removed]",
      "text/plain": [
       "<Figure size 1000x600 with 1 Axes>"
      ]
     },
     "metadata": {},
     "output_type": "display_data"
    }
   ],
   "source": [
    "import pandas as pd\n",
    "import matplotlib.pyplot as plt\n",
    "import seaborn as sns\n",
    "import os\n",
    "import wave\n",
    "\n",
    "stim_folder = \"/home/avalazem/Desktop/Work/Single_Word_Processing_Stage/Long_Range_Agreement/Long_Range_Pilot/Stimuli\"\n",
    "\n",
    "# List all .wav files in the specified folder\n",
    "wav_files = [f for f in os.listdir(stim_folder) if f.endswith('.wav')]\n",
    "# Store durations of .wav files\n",
    "durations = []\n",
    "\n",
    "# Calculate and store the duration of each .wav file\n",
    "for wav_file in wav_files:\n",
    "    with wave.open(os.path.join(stim_folder, wav_file), 'r') as wav:\n",
    "        frames = wav.getnframes()\n",
    "        rate = wav.getframerate()\n",
    "        duration = frames / float(rate)\n",
    "        durations.append((wav_file, duration))\n",
    "\n",
    "# Sort durations by the duration value\n",
    "durations.sort(key=lambda x: x[1])\n",
    "\n",
    "# Create a DataFrame for visualization\n",
    "df = pd.DataFrame(durations, columns=['File', 'Duration'])\n",
    "\n",
    "# Plot the durations in order\n",
    "plt.figure(figsize=(10, 6))\n",
    "sns.barplot(x=list(range(len(durations))), y='Duration', data=df)\n",
    "plt.xticks(rotation=90)\n",
    "plt.title('Audio Durations')\n",
    "plt.xlabel('Order')\n",
    "plt.ylabel('Duration (seconds)')\n",
    "plt.tight_layout()\n",
    "plt.show()"
   ]
  },
  {
   "cell_type": "code",
   "execution_count": null,
   "id": "fa4d92d6",
   "metadata": {},
   "outputs": [],
   "source": [
    "subject_path = \"home/avalazem/Desktop/Work/Single_Word_Processing_Stage/Long_Range_Agreement/Long_Range_Pilot/Stimuli/subject_01\""
   ]
  },
  {
   "cell_type": "code",
   "execution_count": 3,
   "id": "ae996108",
   "metadata": {},
   "outputs": [
    {
     "name": "stdout",
     "output_type": "stream",
     "text": [
      "No duplicate sentences found in sub_01_run_1.csv.\n"
     ]
    }
   ],
   "source": [
    "import pandas as pd\n",
    "import os\n",
    "\n",
    "# Define the path to the CSV file\n",
    "csv_file_path = \"/home/avalazem/Desktop/Work/Single_Word_Processing_Stage/Long_Range_Agreement/Long_Range_Pilot/Stimuli/subject_01/sub_01_run_1/sub_01_run_1.csv\"\n",
    "\n",
    "# Check if the file exists\n",
    "if os.path.exists(csv_file_path):\n",
    "    # Read the CSV file\n",
    "    df_check = pd.read_csv(csv_file_path)\n",
    "\n",
    "    # Check if 'sentence' column exists\n",
    "    if 'sentence' in df_check.columns:\n",
    "        # Find duplicate sentences\n",
    "        duplicates = df_check[df_check.duplicated(subset=['sentence'], keep=False)]\n",
    "\n",
    "        if not duplicates.empty:\n",
    "            print(f\"Duplicate sentences found in {os.path.basename(csv_file_path)}:\")\n",
    "            # Print only the duplicated sentences and their counts\n",
    "            print(duplicates['sentence'].value_counts())\n",
    "        else:\n",
    "            print(f\"No duplicate sentences found in {os.path.basename(csv_file_path)}.\")\n",
    "    else:\n",
    "        print(f\"Error: 'sentence' column not found in {os.path.basename(csv_file_path)}.\")\n",
    "else:\n",
    "    print(f\"Error: File not found at {csv_file_path}\")"
   ]
  },
  {
   "cell_type": "code",
   "execution_count": 7,
   "id": "c7d971ad",
   "metadata": {},
   "outputs": [
    {
     "name": "stdout",
     "output_type": "stream",
     "text": [
      "\n",
      "No duplicate sentences found across the checked files:\n",
      "/home/avalazem/Desktop/Work/Single_Word_Processing_Stage/Long_Range_Agreement/Long_Range_Pilot/Stimuli/subject_01/sub_01_run_1/sub_01_run_1.csv\n",
      "/home/avalazem/Desktop/Work/Single_Word_Processing_Stage/Long_Range_Agreement/Long_Range_Pilot/Stimuli/subject_01/sub_01_run_2/sub_01_run_2.csv\n",
      "/home/avalazem/Desktop/Work/Single_Word_Processing_Stage/Long_Range_Agreement/Long_Range_Pilot/Stimuli/subject_01/sub_01_run_3/sub_01_run_3.csv\n",
      "/home/avalazem/Desktop/Work/Single_Word_Processing_Stage/Long_Range_Agreement/Long_Range_Pilot/Stimuli/subject_01/sub_01_run_4/sub_01_run_4.csv\n",
      "/home/avalazem/Desktop/Work/Single_Word_Processing_Stage/Long_Range_Agreement/Long_Range_Pilot/Stimuli/subject_01/sub_01_run_5/sub_01_run_5.csv\n",
      "/home/avalazem/Desktop/Work/Single_Word_Processing_Stage/Long_Range_Agreement/Long_Range_Pilot/Stimuli/subject_01/sub_01_run_6/sub_01_run_6.csv\n"
     ]
    }
   ],
   "source": [
    "import pandas as pd\n",
    "import os\n",
    "\n",
    "# Base path for subject 01 stimuli\n",
    "base_path = \"/home/avalazem/Desktop/Work/Single_Word_Processing_Stage/Long_Range_Agreement/Long_Range_Pilot/Stimuli/subject_01\"\n",
    "all_dfs = []\n",
    "found_files = []\n",
    "missing_files = []\n",
    "\n",
    "# Loop through run numbers 1 to 6\n",
    "for run_num in range(1, 7):\n",
    "    run_folder = f\"sub_01_run_{run_num}\"\n",
    "    csv_filename = f\"sub_01_run_{run_num}.csv\"\n",
    "    csv_file_path = os.path.join(base_path, run_folder, csv_filename)\n",
    "\n",
    "    # Check if the file exists\n",
    "    if os.path.exists(csv_file_path):\n",
    "        try:\n",
    "            df_run = pd.read_csv(csv_file_path)\n",
    "            # Check if 'sentence' column exists before appending\n",
    "            if 'sentence' in df_run.columns:\n",
    "                all_dfs.append(df_run)\n",
    "                found_files.append(csv_file_path)\n",
    "            else:\n",
    "                print(f\"Warning: 'sentence' column not found in {csv_file_path}. Skipping this file.\")\n",
    "        except Exception as e:\n",
    "            print(f\"Error reading {csv_file_path}: {e}\")\n",
    "    else:\n",
    "        missing_files.append(csv_file_path)\n",
    "\n",
    "# Report missing files, if any\n",
    "if missing_files:\n",
    "    print(\"Missing files:\")\n",
    "    for f in missing_files:\n",
    "        print(f)\n",
    "\n",
    "# Proceed only if some files were found and read\n",
    "if all_dfs:\n",
    "    # Concatenate all dataframes\n",
    "    combined_df = pd.concat(all_dfs, ignore_index=True)\n",
    "\n",
    "    # Check for duplicates in the 'sentence' column across all runs\n",
    "    duplicates_across_runs = combined_df[combined_df.duplicated(subset=['sentence'], keep=False)]\n",
    "\n",
    "    if not duplicates_across_runs.empty:\n",
    "        print(\"\\nDuplicate sentences found across the following files:\")\n",
    "        for f in found_files:\n",
    "            print(f)\n",
    "        print(\"\\nDuplicate sentences and their counts:\")\n",
    "        print(duplicates_across_runs['sentence'].value_counts())\n",
    "    else:\n",
    "        print(\"\\nNo duplicate sentences found across the checked files:\")\n",
    "        for f in found_files:\n",
    "            print(f)\n",
    "else:\n",
    "    print(\"\\nNo CSV files with a 'sentence' column were found or read successfully. Cannot check for duplicates.\")"
   ]
  }
 ],
 "metadata": {
  "kernelspec": {
   "display_name": "Single_Word_Processing_Stage",
   "language": "python",
   "name": "python3"
  },
  "language_info": {
   "codemirror_mode": {
    "name": "ipython",
    "version": 3
   },
   "file_extension": ".py",
   "mimetype": "text/x-python",
   "name": "python",
   "nbconvert_exporter": "python",
   "pygments_lexer": "ipython3",
   "version": "3.12.7"
  }
 },
 "nbformat": 4,
 "nbformat_minor": 5
}
